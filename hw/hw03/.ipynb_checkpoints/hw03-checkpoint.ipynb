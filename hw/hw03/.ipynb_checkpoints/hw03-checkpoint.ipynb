{
 "cells": [
  {
   "cell_type": "markdown",
   "metadata": {},
   "source": [
    "# Homework 3: Table Manipulation and Visualization"
   ]
  },
  {
   "cell_type": "markdown",
   "metadata": {},
   "source": [
    "**Reading**: Textbook chapter [7](https://umass-data-science.github.io/190fwebsite/textbook/07/visualization/)."
   ]
  },
  {
   "cell_type": "markdown",
   "metadata": {},
   "source": [
    "Please complete this notebook by filling in the cells provided. Before you begin, execute the following cell to load the provided tests. Each time you start your server, you will need to execute this cell again to load the tests.\n",
    "\n",
    "Homework 3 is due Wednesday, 10/3 at 11:59pm. Start early so that you can come to office hours if you're stuck. Check the website for the office hours schedule. Late work will not be accepted as per the [policies](https://umass-data-science.github.io/190fwebsite/policy/) of this course. \n",
    "\n",
    "Throughout this homework and all future ones, please be sure to not re-assign variables throughout the notebook! For example, if you use `max_temperature` in your answer to one question, do not reassign it later on. Moreover, please be sure to only put your written answers in the provided cells. "
   ]
  },
  {
   "cell_type": "code",
   "execution_count": 1,
   "metadata": {},
   "outputs": [
    {
     "name": "stdout",
     "output_type": "stream",
     "text": [
      "Requirement already up-to-date: okpy in /home/mjasim/anaconda3/lib/python3.6/site-packages (1.13.11)\n",
      "Requirement already satisfied, skipping upgrade: requests==2.12.4 in /home/mjasim/anaconda3/lib/python3.6/site-packages (from okpy) (2.12.4)\n",
      "Requirement already satisfied, skipping upgrade: coverage==3.7.1 in /home/mjasim/anaconda3/lib/python3.6/site-packages (from okpy) (3.7.1)\n",
      "=====================================================================\n",
      "Assignment: Homework 3: Table Manipulation and Visualization\n",
      "OK, version v1.13.11\n",
      "=====================================================================\n",
      "\n",
      "Successfully logged in as mahmood.jasim.bd@gmail.com\n"
     ]
    }
   ],
   "source": [
    "# Don't change this cell; just run it. \n",
    "! pip install -U okpy\n",
    "\n",
    "import numpy as np\n",
    "from datascience import *\n",
    "\n",
    "\n",
    "# These lines do some fancy plotting magic.\\n\",\n",
    "import matplotlib\n",
    "%matplotlib inline\n",
    "import matplotlib.pyplot as plots\n",
    "plots.style.use('fivethirtyeight')\n",
    "\n",
    "from client.api.notebook import Notebook\n",
    "ok = Notebook('hw03.ok')\n",
    "_ = ok.auth(inline=True)"
   ]
  },
  {
   "cell_type": "markdown",
   "metadata": {},
   "source": [
    "## 1. Differences between Universities, Part II\n"
   ]
  },
  {
   "cell_type": "markdown",
   "metadata": {},
   "source": [
    "**Question 1.** Suppose you're choosing a university to attend, and you'd like to *quantify* how *dissimilar* any two universities are.  You rate each university you're considering on several numerical traits.  You decide on a very detailed list of 1000 traits, and you measure all of them!  Some examples:\n",
    "\n",
    "* The cost to attend (per year)\n",
    "* The average Yelp review of nearby Thai restaurants\n",
    "* The USA Today ranking of the Medical school\n",
    "* The USA Today ranking of the Engineering school\n",
    "\n",
    "You decide that the dissimilarity between two universities is the *total* of the differences in their traits.  That is, the dissimilarity is:\n",
    "\n",
    "* the **sum** of\n",
    "* the absolute values of\n",
    "* the 1000 differences in their trait values.\n",
    "\n",
    "In the next cell, we've loaded arrays containing the 1000 trait values for UMass and Harvard.  Compute the dissimilarity (according to the above method) between UMass and Harvard.  Call your answer `dissimilarity`.  Use a single line of code to compute the answer.\n",
    "\n",
    "*Note:* The data we're using aren't real -- we made them up for this exercise, except for the cost-of-attendance numbers. "
   ]
  },
  {
   "cell_type": "code",
   "execution_count": 7,
   "metadata": {},
   "outputs": [
    {
     "data": {
      "text/plain": [
       "array([3.92000000e+02, 2.53244038e+00, 1.13089241e+01, 1.28811387e+01,\n",
       "       4.54672488e+00, 2.61694804e+00, 4.64855292e+01, 2.21390436e+00,\n",
       "       1.16110854e+01, 2.53814155e+01, 3.81407723e+00, 3.35177182e+00,\n",
       "       1.06661411e+01, 3.71815329e+00, 2.28574469e+00, 1.18399531e+01,\n",
       "       2.11680045e+00, 1.27438022e+01, 1.74374153e+01, 2.87849893e+00,\n",
       "       3.99809135e+00, 2.26544063e+00, 1.25971205e+01, 3.50376177e+01,\n",
       "       2.76838469e+01, 3.45638425e+01, 5.07571676e+00, 2.38815253e+01,\n",
       "       4.60834348e+00, 3.36194320e+00, 1.24500820e+01, 1.04811656e+01,\n",
       "       2.05137132e+01, 3.51939803e+01, 3.30582546e+01, 2.95869987e+01,\n",
       "       4.37370111e+00, 2.21582560e+01, 2.88569696e+00, 3.08096224e+00,\n",
       "       1.38378790e+01, 2.72236497e+01, 3.14201731e+00, 9.62033791e+00,\n",
       "       7.88717716e-01, 4.49736950e+01, 1.79957601e+01, 2.39926612e+00,\n",
       "       2.11022200e+00, 3.72787234e+00, 2.46494650e+00, 2.67910061e+00,\n",
       "       2.92533495e+00, 4.73695153e+01, 2.92185199e+00, 4.61870477e+00,\n",
       "       4.09644173e+00, 3.94535534e+00, 4.92071276e+00, 4.16243391e+01,\n",
       "       2.05553939e+01, 4.82617290e+01, 2.95952734e+00, 2.90271321e+00,\n",
       "       2.49955317e+00, 4.32790642e+00, 4.85292046e+00, 3.36345258e+00,\n",
       "       3.07371884e+00, 1.86347781e+01, 4.99333646e+00, 2.29846352e+00,\n",
       "       4.72215701e+00, 4.24753072e+01, 4.52877738e+01, 6.44854070e+00,\n",
       "       4.94802689e+00, 2.59558866e+00, 4.09839124e+01, 3.26948461e+00,\n",
       "       3.91601190e+00, 3.07592756e-01, 3.09791997e+00, 3.24069918e+00,\n",
       "       4.67440980e+01, 3.07722014e+00, 2.29806837e+01, 3.63501841e+00,\n",
       "       1.27367176e+01, 4.41611074e+00, 5.08741324e+00, 4.65430205e+01,\n",
       "       2.37427641e+00, 1.96197050e+01, 4.58820652e+01, 2.94980741e+00,\n",
       "       4.70222104e+01, 1.51275261e+01, 3.72170632e+01, 4.74032642e+00,\n",
       "       2.21239138e+00, 3.58268265e+00, 4.59604319e+00, 4.27682441e+01,\n",
       "       1.28206664e+01, 4.31318076e+00, 1.72434581e+01, 3.20292712e+00,\n",
       "       4.22519711e+00, 2.94096988e+01, 2.50043330e+00, 2.91777506e+00,\n",
       "       4.01422125e+00, 2.37204091e+01, 8.04990947e-01, 4.74141928e+00,\n",
       "       1.97317874e+01, 3.00630811e+00, 4.00564446e+01, 4.41698714e+01,\n",
       "       1.70460729e+01, 2.74047503e+00, 4.78038140e+00, 4.96763217e+01,\n",
       "       3.47551671e+01, 1.85009279e+01, 2.34955846e+01, 3.47113560e+00,\n",
       "       2.98867677e+01, 2.93674284e+00, 4.40382144e+00, 3.09544027e+00,\n",
       "       2.11426584e+00, 3.92437573e+00, 2.06977013e+01, 4.44823898e+00,\n",
       "       2.92516493e+00, 3.97627810e+01, 1.12850992e+01, 4.21095753e+00,\n",
       "       1.55892217e+01, 3.06456279e+00, 4.12082652e+00, 2.72714168e+00,\n",
       "       4.97712747e+01, 2.19926606e+00, 3.92064337e+00, 1.33792682e+01,\n",
       "       2.28958036e+00, 1.65295626e+01, 4.17191744e+01, 4.08722029e+00,\n",
       "       2.34280379e+00, 4.83110211e+01, 3.57512458e+00, 3.02690951e+00,\n",
       "       3.03442989e+00, 3.34585786e+01, 2.14629858e+01, 1.64343083e+01,\n",
       "       2.16955494e+00, 4.80782924e+01, 3.57910422e+00, 4.52240684e+00,\n",
       "       3.06139343e+00, 4.23106032e+00, 4.88797336e+00, 1.55040492e+01,\n",
       "       3.29136612e+00, 1.27126142e+01, 4.90086679e+00, 2.61662709e+01,\n",
       "       2.55700940e+00, 2.04284794e+00, 1.27998079e+01, 2.85628603e+01,\n",
       "       4.22345974e+00, 2.43211067e+01, 1.40504369e+01, 4.99057410e+00,\n",
       "       1.47079106e+01, 4.32419215e+00, 4.49706051e+00, 3.50741486e+00,\n",
       "       2.31958069e+01, 4.82820143e+00, 2.14560320e+01, 3.40323561e+01,\n",
       "       4.05218977e+00, 3.30444293e+00, 4.34850345e+00, 3.01941610e+01,\n",
       "       4.16724456e+01, 3.94759186e+01, 2.22463758e+00, 3.55660763e+00,\n",
       "       1.65650650e+01, 3.50510022e+01, 2.98801220e+00, 3.31503353e+00,\n",
       "       2.18861506e+00, 4.31131133e+01, 4.55402610e+01, 1.52626523e+01,\n",
       "       1.46456984e+01, 4.27875517e+00, 4.49759507e+00, 2.37824284e+00,\n",
       "       2.03635376e+00, 3.52602419e+00, 1.30948886e+01, 3.37838795e+00,\n",
       "       6.78287842e+00, 3.94726117e+00, 4.53219598e+00, 2.83942474e+00,\n",
       "       2.91318336e+00, 4.28742421e+00, 3.29261696e+01, 4.42342277e+00,\n",
       "       9.41985153e+00, 1.68344075e+01, 4.04021919e+01, 3.29436204e+01,\n",
       "       1.79538742e+01, 1.21625159e+01, 3.39885945e+00, 1.50552643e+01,\n",
       "       4.01381313e+01, 2.44586064e+00, 4.63309353e+01, 3.83388732e+00,\n",
       "       4.56826495e+00, 2.27733472e+00, 3.03373254e+00, 3.39528758e+00,\n",
       "       2.10114473e+00, 2.89757632e+00, 4.88483501e+00, 5.74507656e+00,\n",
       "       2.72759364e+00, 3.21229888e+01, 2.24785618e+00, 4.17018275e+00,\n",
       "       3.31254230e+00, 3.37873805e+00, 8.30711255e+00, 3.88285839e+00,\n",
       "       4.27884324e+00, 4.20259286e+00, 9.62655132e+00, 2.15688459e+00,\n",
       "       3.47400360e+00, 4.41748458e+01, 2.49888515e+01, 4.24116221e+01,\n",
       "       2.67127016e+00, 3.29068937e+01, 3.35445533e+00, 4.82135495e+01,\n",
       "       3.83585113e+01, 3.52105766e+00, 2.57563797e+00, 4.12215253e+00,\n",
       "       4.67658787e+01, 2.16221930e+01, 4.11687625e+00, 2.60037257e+00,\n",
       "       9.04965211e+00, 3.30325388e+01, 3.27360589e+00, 4.52654282e+01,\n",
       "       1.01085764e+00, 4.74573926e+00, 4.50058885e+00, 4.77267847e+01,\n",
       "       3.80867177e+00, 2.14545285e+01, 7.37453023e+00, 3.76498056e+00,\n",
       "       2.89210291e+01, 4.91146505e+01, 3.47826236e+00, 2.81674194e+00,\n",
       "       2.83955706e+00, 1.71687175e+01, 2.37597845e+00, 4.95078455e+00,\n",
       "       1.79310313e+01, 9.40006611e+00, 2.50749638e+01, 4.94266747e+01,\n",
       "       4.92954651e+01, 4.39309046e+00, 2.02143107e+01, 3.65420138e+00,\n",
       "       4.13866818e+01, 1.23483310e+01, 4.04607825e+00, 4.91449046e+00,\n",
       "       2.60018369e+00, 3.89323671e+01, 8.21712923e+00, 2.84967773e+01,\n",
       "       1.52595283e+01, 3.18581489e+00, 2.90802545e+00, 2.49954008e+00,\n",
       "       3.04852372e+00, 4.18445089e+00, 4.38958136e+00, 1.72664954e+01,\n",
       "       3.60428255e+00, 3.10624213e+00, 3.18801464e+00, 1.12142543e+01,\n",
       "       1.63387792e+01, 4.91302812e+00, 2.41570107e+00, 4.99192934e+00,\n",
       "       2.65130495e+00, 3.25577163e+01, 3.05094494e+00, 3.35555566e+00,\n",
       "       4.41663609e+00, 3.09263699e+00, 1.05607333e+01, 3.62318783e+01,\n",
       "       2.76000541e+00, 4.56322328e+01, 2.65514418e+01, 2.91027913e+01,\n",
       "       2.31167158e+01, 1.14092919e+01, 3.55217085e+00, 3.62551810e+01,\n",
       "       2.86395589e+00, 3.09530993e+01, 3.27256188e+01, 2.94617357e+00,\n",
       "       2.19095034e+00, 2.33766481e+00, 2.92314771e+00, 4.45216183e+00,\n",
       "       1.37571470e+01, 3.21908792e+00, 4.09930419e+00, 2.05377321e+00,\n",
       "       2.10249266e+00, 7.61732633e+00, 3.70594316e+01, 3.39713424e+00,\n",
       "       1.86180062e+01, 3.11371448e+00, 3.06940971e+00, 4.01471821e+00,\n",
       "       4.32053630e+01, 3.55730091e+00, 4.32345007e+00, 2.09208102e+00,\n",
       "       4.60561547e+01, 2.75471219e+00, 3.41799793e+00, 4.43426835e+00,\n",
       "       2.57495381e+00, 4.81842342e+00, 2.98483603e+01, 7.35136906e+00,\n",
       "       3.95734404e+00, 3.74155679e+01, 1.92092289e+01, 3.33207026e+01,\n",
       "       2.03316116e+00, 3.14539525e+00, 8.77960854e+00, 2.04567526e+00,\n",
       "       4.21836533e+00, 2.57789500e+00, 2.45845938e+00, 1.18884240e+01,\n",
       "       2.62114896e+00, 2.11266909e+00, 3.74070252e+01, 2.51676426e+01,\n",
       "       9.33597100e+00, 5.71588418e+00, 2.69801538e+01, 3.37199024e+00,\n",
       "       4.56417391e-01, 4.62203399e+01, 3.60574529e+01, 3.20970580e+01,\n",
       "       3.94074979e+00, 3.04206143e+00, 2.39892646e+00, 4.24137736e+01,\n",
       "       4.72031597e+01, 2.44964597e+01, 4.53211631e+01, 4.78292217e+00,\n",
       "       3.50098041e+00, 4.25673669e+00, 2.65400069e+01, 3.64062346e+01,\n",
       "       2.71297777e+01, 1.26601724e+01, 7.84238596e+00, 2.52157393e+00,\n",
       "       4.61482372e+00, 4.92158682e+00, 4.45488782e+01, 4.70498728e+00,\n",
       "       6.92779641e+00, 3.06201005e+00, 2.98948372e+00, 4.06607589e+01,\n",
       "       3.31620370e+01, 3.16232042e+00, 3.33957573e+01, 1.88732757e+01,\n",
       "       2.47457919e+00, 3.41104841e+01, 1.18662808e+01, 3.57775525e+01,\n",
       "       1.36480616e+01, 4.71226429e+00, 4.60370692e+00, 5.58780331e+00,\n",
       "       1.74527869e+01, 2.71008863e+00, 1.38851774e+01, 4.52657018e+01,\n",
       "       4.33972600e+00, 3.21479153e+01, 1.70245999e+01, 7.40904458e+00,\n",
       "       2.79199483e+00, 4.94688802e+00, 2.69793013e+01, 3.78690635e+01,\n",
       "       2.49933537e+01, 2.53189405e+00, 7.69713322e+00, 1.61324294e+00,\n",
       "       1.78321729e+01, 3.52464454e+00, 1.25215737e+01, 9.73233398e+00,\n",
       "       3.10856190e+00, 9.65699392e+00, 4.59931385e+00, 2.80874852e+00,\n",
       "       2.53769702e+00, 1.45455687e+01, 4.13022957e+00, 3.46647086e+00,\n",
       "       4.33735725e+01, 2.85030038e+00, 7.71254827e+00, 3.36324637e+00,\n",
       "       4.91566199e+00, 2.01111799e+00, 2.84271958e+01, 2.34736394e+01,\n",
       "       4.03150737e+00, 2.98488161e+00, 4.29503625e+00, 2.07906001e+00,\n",
       "       4.41737010e+00, 1.86497216e+01, 3.44485232e+00, 3.09362295e+00,\n",
       "       1.07781420e+01, 2.03281330e+00, 7.36665629e+00, 4.05740019e+00,\n",
       "       3.16841168e+00, 2.62054044e+01, 2.95245781e+01, 2.14944877e+00,\n",
       "       2.19615549e+01, 4.68645917e+00, 1.34802330e+01, 4.13871292e+00,\n",
       "       3.41196830e+00, 2.23589507e+00, 3.54242361e+00, 3.78125355e+01,\n",
       "       6.82515510e+00, 3.72417602e+00, 2.52362473e+00, 2.79621586e+00,\n",
       "       3.53342986e+01, 3.81395218e+00, 3.59934085e+00, 1.53113854e+01,\n",
       "       4.21858257e+00, 4.34872741e+00, 3.55643770e+00, 2.94490274e+00,\n",
       "       4.41288024e+00, 3.18101899e+00, 9.94505906e+00, 1.87012891e+01,\n",
       "       4.80130662e+01, 3.84226294e+00, 1.24568905e+01, 1.67517444e+01,\n",
       "       4.32335959e+01, 4.32598146e+00, 4.70033281e+00, 4.73278697e+00,\n",
       "       5.13318857e+00, 2.46108936e+00, 3.32465599e+00, 4.79895325e+00,\n",
       "       3.98872393e+01, 6.01343683e+00, 2.74933232e+00, 2.25869097e+00,\n",
       "       4.41606071e+01, 4.92346628e+00, 4.67020487e+01, 1.45335330e+01,\n",
       "       4.12352454e+00, 2.92921241e+00, 3.26463847e+00, 1.26713078e-02,\n",
       "       4.74977683e+00, 2.38930065e+01, 4.39647457e+01, 2.13315360e+00,\n",
       "       3.83995421e+00, 3.66108448e+01, 4.97011916e+01, 1.97137656e+01,\n",
       "       4.47350051e+00, 3.42772846e+00, 4.34270041e+00, 4.94575919e+00,\n",
       "       1.43043578e+00, 2.41440229e+00, 2.57235608e+01, 4.98732079e+01,\n",
       "       2.62187497e+00, 4.37166126e+01, 4.59389567e+00, 4.09941709e+01,\n",
       "       3.06455518e+00, 4.50522178e+00, 2.97062522e+00, 4.43244137e+00,\n",
       "       4.19542114e+00, 3.70509507e+01, 3.31168520e+01, 3.15300948e+01,\n",
       "       2.63760397e+00, 3.16095105e+00, 2.77324593e+00, 7.49474747e+00,\n",
       "       4.12374016e+00, 1.02752004e+01, 2.61738323e+00, 4.22405643e+01,\n",
       "       3.21597133e+00, 4.41026979e+01, 2.62638462e+01, 4.73655658e+01,\n",
       "       2.98337415e+01, 4.61058284e+00, 2.43519515e+00, 4.28114864e+00,\n",
       "       2.69119949e+01, 4.45685207e+00, 4.12431554e+00, 3.83229755e+01,\n",
       "       6.39297005e+00, 3.91279158e+01, 3.34205681e+00, 4.33582932e+00,\n",
       "       3.05546641e+00, 4.30854877e+00, 2.55213198e+01, 4.45025573e+00,\n",
       "       1.36335990e+01, 1.98417871e+01, 4.54677137e+00, 3.70280456e+00,\n",
       "       3.97242167e+01, 4.00907084e+00, 3.77551198e+00, 4.19154672e+01,\n",
       "       3.61129520e+01, 2.73053627e+01, 3.47977808e+01, 3.07060098e+00,\n",
       "       2.64580413e+00, 1.46879275e+00, 3.99041299e+01, 3.57586009e+00,\n",
       "       2.83415162e+00, 4.32105394e+00, 2.65698689e+00, 4.96302028e+00,\n",
       "       4.82411045e+00, 4.86643753e+01, 3.17144044e+00, 4.15182510e+01,\n",
       "       4.54106580e+01, 3.90232782e+01, 3.53693487e+01, 2.48333268e+00,\n",
       "       4.01243488e+00, 4.98879054e+00, 4.49612155e+01, 3.69566814e+01,\n",
       "       5.25538873e+00, 2.47081567e+01, 4.32002340e+00, 3.99172946e+01,\n",
       "       3.75768321e+00, 2.81282396e+01, 3.23919565e+00, 4.68376937e+00,\n",
       "       2.20265607e+01, 1.51453737e-01, 6.04401538e+00, 4.69519779e+00,\n",
       "       3.66525092e+00, 1.59294821e-01, 1.85940658e+00, 3.29581614e+00,\n",
       "       4.51763152e+00, 2.57336319e+00, 4.67373855e+00, 3.98579648e+00,\n",
       "       4.68354839e+01, 2.10698590e+01, 2.55070648e+00, 1.86836335e+01,\n",
       "       1.12450185e+01, 3.61019502e+01, 2.82717386e+01, 2.41512068e+00,\n",
       "       2.57620231e+01, 2.84944494e+01, 3.13657712e+00, 1.33580914e+01,\n",
       "       4.71597577e+00, 4.88988740e+00, 4.33181526e+01, 2.73627990e+00,\n",
       "       4.48180203e+00, 3.73902036e+00, 4.50100394e+01, 2.95336321e+00,\n",
       "       2.34957203e+01, 1.73756522e+01, 3.07216580e+00, 4.26818583e+00,\n",
       "       3.74232330e+01, 2.51547183e+01, 6.25960105e+00, 4.70649923e+00,\n",
       "       1.73485021e+01, 2.09660096e+01, 8.86774156e+00, 3.27154631e+01,\n",
       "       2.85949881e+00, 1.04010220e+01, 4.42963075e+00, 2.59254384e+01,\n",
       "       4.46059365e+00, 3.20606377e+01, 3.79405258e+01, 3.37308304e+00,\n",
       "       3.92316732e+01, 3.93141880e+00, 2.12341090e+01, 3.33613148e+00,\n",
       "       4.22936799e+00, 4.55916030e+00, 4.93005888e+01, 2.69460642e+00,\n",
       "       4.73966892e+00, 4.46224425e+00, 2.95533750e+01, 4.72091795e-01,\n",
       "       4.46912845e+00, 2.08162179e+00, 3.00202250e+00, 3.96298369e+00,\n",
       "       3.64931674e+01, 3.83136792e+01, 1.31964639e+01, 2.95952215e+01,\n",
       "       4.95713834e+00, 7.40480485e+00, 1.88603154e+01, 2.63962675e+00,\n",
       "       3.15834422e+00, 5.89314871e+00, 7.43846801e+00, 3.93290168e+01,\n",
       "       4.18936385e+00, 4.39352922e+00, 6.21607666e+00, 2.84931381e+01,\n",
       "       5.35406265e+00, 4.98541955e+00, 3.86989747e+00, 1.98028282e+01,\n",
       "       3.40892831e+00, 1.24631493e+01, 4.23059561e+00, 3.61134747e+00,\n",
       "       3.64709489e+00, 3.63920579e+00, 1.82717380e+01, 3.70414160e+01,\n",
       "       2.47173581e+00, 2.51126786e+00, 3.91021897e+00, 3.40325216e+01,\n",
       "       4.33779659e+00, 2.70528357e+01, 1.77680758e+01, 2.99298657e+00,\n",
       "       2.46964414e+00, 4.51967104e+00, 4.10961992e+00, 4.10115778e+00,\n",
       "       4.62039768e+01, 2.58938025e+00, 3.91181297e+00, 3.64043433e+01,\n",
       "       2.89096763e+01, 4.42533228e+00, 2.26315746e+00, 3.47728380e+01,\n",
       "       2.10313291e+01, 3.13971504e+01, 2.57098734e+00, 2.71430606e+01,\n",
       "       4.36966746e+00, 1.23538870e+01, 3.97149232e+00, 4.24683739e+01,\n",
       "       1.86513931e+01, 2.00806668e+00, 4.20394907e+00, 4.94642379e+01,\n",
       "       3.88458268e+00, 4.78691655e+01, 7.93688158e+00, 2.01884901e+01,\n",
       "       1.27908693e+01, 4.58397464e+01, 4.23970446e+00, 2.84993617e+00,\n",
       "       2.51695697e+00, 2.61606261e+00, 4.17684156e+00, 9.06376058e+00,\n",
       "       2.75445372e+00, 3.67769615e+01, 3.65555450e+00, 3.97874568e+00,\n",
       "       4.83127878e+00, 2.37472687e+00, 3.22136583e+01, 1.25707535e+01,\n",
       "       4.02812239e+00, 3.24927863e+00, 1.48228318e+01, 3.31680516e+01,\n",
       "       4.01388340e+00, 2.34130850e+01, 2.90674498e+01, 1.59188005e+01,\n",
       "       2.73310594e+00, 1.75471406e+01, 3.00260545e+01, 3.04897932e+00,\n",
       "       4.98232991e+01, 3.56597252e+01, 1.43637691e+01, 2.77045452e+00,\n",
       "       1.07671132e+01, 4.19432967e+01, 3.04776978e+00, 1.04639202e+01,\n",
       "       4.89650572e+00, 2.74933426e+00, 4.49789472e+00, 2.00398369e+00,\n",
       "       3.64388877e+00, 1.82577309e+01, 4.98967748e+00, 1.36258239e+01,\n",
       "       4.31247893e+00, 1.36728889e+01, 4.82941722e+01, 1.27905445e+01,\n",
       "       2.49018273e+00, 4.17035153e+00, 2.15665799e+01, 4.74048376e+01,\n",
       "       3.66632922e+01, 3.65075367e+01, 1.06799168e+01, 4.82703864e+00,\n",
       "       4.96705517e+00, 3.41491574e+00, 2.45910121e+00, 2.92868895e+01,\n",
       "       2.00773941e+01, 3.49938462e+00, 3.55498044e+00, 2.84574312e+00,\n",
       "       2.47687914e+00, 2.06697694e+01, 2.52319764e+00, 3.38566771e+00,\n",
       "       2.14339321e+01, 6.33422167e+00, 9.80609321e+00, 1.66788322e+01,\n",
       "       1.94328881e+01, 2.62846320e+00, 1.82443345e+01, 2.75914924e+01,\n",
       "       3.81833864e+00, 4.40304418e+00, 2.98449851e+00, 3.43495532e+00,\n",
       "       3.84948240e+01, 2.56938172e+00, 4.38744823e+00, 2.29347851e+01,\n",
       "       3.10761373e+00, 1.98555531e+01, 1.54214447e+01, 4.53551134e+00,\n",
       "       2.26753500e+00, 4.20221220e+00, 2.80197446e+01, 4.82825926e+00,\n",
       "       4.00994911e+00, 3.57756294e+00, 1.90213412e+01, 4.12017313e+00,\n",
       "       4.58780845e+01, 3.17028799e+01, 3.06246326e+01, 3.27231509e+00,\n",
       "       4.66195814e+00, 2.85330125e+01, 3.51400991e+00, 3.26036731e+00,\n",
       "       3.71371457e+01, 2.43519515e+00, 2.89047969e+00, 4.92330261e+00,\n",
       "       1.39732100e+01, 1.64100332e+01, 2.86978540e+00, 3.44229721e+00,\n",
       "       3.25266162e+00, 3.70415474e+01, 2.38302456e+01, 4.98328258e+00,\n",
       "       4.35576542e+00, 1.11307344e+01, 4.24050231e+00, 2.86157212e+00,\n",
       "       1.36267146e+01, 4.85949756e+00, 4.00386260e+00, 4.44990832e+01,\n",
       "       2.87794439e+00, 4.33846139e+00, 1.30165297e+01, 4.15978052e+00,\n",
       "       4.88346108e+00, 5.74596763e+00, 4.80573888e+00, 4.37217942e+00,\n",
       "       7.41259078e+00, 1.32781175e+01, 3.97286518e+00, 1.88357661e+01,\n",
       "       4.01955881e+01, 8.85524453e+00, 2.19310391e+00, 4.72279311e+01,\n",
       "       2.84565845e+00, 3.87983579e+00, 4.28706911e+01, 2.95875166e+01,\n",
       "       2.78615901e+01, 4.38233299e+00, 1.10815975e+01, 1.45490648e+01,\n",
       "       1.55192534e+01, 3.97257749e+01, 3.64353809e+00, 3.40396808e+00,\n",
       "       4.46376017e+00, 3.40479711e+00, 3.25220447e+00, 2.44159109e+01,\n",
       "       2.08514569e+00, 2.82545611e+00, 3.89960951e+00, 3.70399420e+00,\n",
       "       2.08358430e+01, 2.20924544e+00, 4.21485609e+01, 4.86292489e+01,\n",
       "       3.44427357e+01, 4.83459840e+00, 3.45624614e+00, 4.47648631e+01,\n",
       "       2.23960366e+00, 4.12296853e+00, 3.35721445e+00, 2.71075895e+00,\n",
       "       3.41181042e+00, 2.61918095e+00, 1.92309169e+01, 4.94375148e+00,\n",
       "       3.69000552e+00, 3.55479083e+00, 2.32310161e+00, 4.94609080e+00,\n",
       "       4.17850442e+00, 5.10431439e+00, 4.70248672e+00, 2.98006051e+00,\n",
       "       4.76360156e+00, 3.83300471e+00, 3.69360067e+00, 4.50351838e+00,\n",
       "       3.18317675e+01, 2.05997589e+00, 4.61906529e+00, 3.34410784e+00,\n",
       "       3.54181171e+00, 4.53047005e+01, 3.35175862e+00, 1.92845980e+01,\n",
       "       3.64488118e+00, 3.15749269e+00, 3.00612603e+00, 4.37652849e+01,\n",
       "       4.61052029e+01, 1.73208009e+00, 2.64717949e+00, 2.89020643e+00,\n",
       "       3.88003420e+00, 2.96208620e+00, 7.72106886e-01, 5.38369010e-03,\n",
       "       3.05121294e+00, 3.85329854e+00, 3.58380460e+00, 2.85618352e+00,\n",
       "       3.16426226e+00, 3.17643575e+01, 2.36850944e+00, 3.37286527e+00,\n",
       "       1.23110953e+00, 4.10316282e+00, 4.94154324e+01, 4.24938105e+00,\n",
       "       4.58853912e+00, 1.07763402e+01, 1.56821470e+01, 3.04277901e+01,\n",
       "       4.12916760e+00, 3.94573440e+01, 1.58840201e+01, 1.01881665e+01,\n",
       "       1.99318447e+01, 4.55828927e+00, 7.09490685e+00, 3.37537822e+00,\n",
       "       4.57737272e+00, 2.33080350e+01, 3.93711275e+01, 4.69440553e+01,\n",
       "       2.32186768e+01, 2.38583681e+00, 4.70785703e+00, 2.98978831e+00,\n",
       "       1.74554529e+00, 2.11926339e+01, 4.83306326e+01, 4.06830807e+00])"
      ]
     },
     "execution_count": 7,
     "metadata": {},
     "output_type": "execute_result"
    }
   ],
   "source": [
    "UMass = Table.read_table(\"UMass.csv\").column(\"Trait value\")\n",
    "Harvard = Table.read_table(\"Harvard.csv\").column(\"Type\")\n",
    "\n",
    "dissimilarity = ...\n",
    "dissimilarity"
   ]
  },
  {
   "cell_type": "code",
   "execution_count": null,
   "metadata": {},
   "outputs": [],
   "source": [
    "_ = ok.grade('q1_1')"
   ]
  },
  {
   "cell_type": "markdown",
   "metadata": {},
   "source": [
    "**Question 2.** Why do we sum up the absolute values of the differences in trait values, rather than just summing up the differences?"
   ]
  },
  {
   "cell_type": "markdown",
   "metadata": {
    "deletable": false,
    "manual_grade": true,
    "manual_problem_id": "more_universities_3"
   },
   "source": [
    "*Write your answer here, replacing this text.*"
   ]
  },
  {
   "cell_type": "markdown",
   "metadata": {},
   "source": [
    "##### Weighing the traits\n",
    "After computing dissimilarities between several schools, you notice a problem with your method: the scale of the traits matters a lot.\n",
    "\n",
    "Since schools cost tens of thousands of dollars to attend, the cost-to-attend trait is always a much bigger *number* than most other traits.  That makes it affect the dissimilarity a lot more than other traits.  Two schools that differ in cost-to-attend by \\$900, but are otherwise identical, get a dissimilarity of 900.  But two schools that differ in graduation rate by .9 (a huge difference!), but are otherwise identical, get a dissimilarity of only .9.\n",
    "\n",
    "One way to fix this problem is to assign different \"weights\" to different traits.  For example, we could fix the problem above by multiplying the difference in the cost-to-attend traits by .001, so that a difference of \\$900 in cost-to-attend results in a dissimilarity of $900 \\times .001$, or $.9$.\n",
    "\n",
    "Here's a revised method that does that for every trait:\n",
    "\n",
    "1. For each trait, subtract the two schools' trait values.\n",
    "2. Then take the absolute value of that difference.\n",
    "3. *Now multiply that absolute value by a trait-specific number, like .001 or 2.*\n",
    "4. Now sum the 1000 resulting numbers.\n",
    "\n",
    "**Question 3.** Suppose you've already decided on a weight for each trait.  These are loaded into an array called `weights` in the cell below.  `weights.item(0)` is the weight for the first trait, `weights.item(1)` is the weight for the second trait, and so on.  Use the revised method to compute a revised dissimilarity between UMass and Harvard.\n",
    "\n",
    "*Hint:* Using array arithmetic, your answer should be almost as short as in question 1."
   ]
  },
  {
   "cell_type": "code",
   "execution_count": null,
   "metadata": {},
   "outputs": [],
   "source": [
    "weights = Table.read_table(\"weights.csv\").column(\"Weight\")\n",
    "\n",
    "revised_dissimilarity = ...\n",
    "revised_dissimilarity"
   ]
  },
  {
   "cell_type": "code",
   "execution_count": null,
   "metadata": {
    "scrolled": true
   },
   "outputs": [],
   "source": [
    "_ = ok.grade('q1_3')"
   ]
  },
  {
   "cell_type": "markdown",
   "metadata": {},
   "source": [
    "## 2. Unemployment\n"
   ]
  },
  {
   "cell_type": "markdown",
   "metadata": {},
   "source": [
    "The Federal Reserve Bank of St. Louis publishes data about jobs in the US.  Below we've loaded data on unemployment in the United States.  There are many ways of defining unemployment, and our dataset includes two notions of the unemployment rate:\n",
    "\n",
    "1. Among people who are able to work and are looking for a full-time job, the percentage who can't find a job.  This is called the Non-Employment Index, or NEI.\n",
    "2. Among people who are able to work and are looking for a full-time job, the percentage who can't find any job *or* are only working at a part-time job.  The latter group is called \"Part-Time for Economic Reasons\", so the acronym for this index is NEI-PTER.  (Economists are great at marketing.)\n",
    "\n",
    "The source of the data is [here](https://fred.stlouisfed.org/categories/33509)."
   ]
  },
  {
   "cell_type": "markdown",
   "metadata": {},
   "source": [
    "**Question 1.** The data are in a CSV file called `unemployment.csv`.  Load that file into a table called `unemployment`."
   ]
  },
  {
   "cell_type": "code",
   "execution_count": null,
   "metadata": {},
   "outputs": [],
   "source": [
    "unemployment = ...\n",
    "unemployment"
   ]
  },
  {
   "cell_type": "code",
   "execution_count": null,
   "metadata": {},
   "outputs": [],
   "source": [
    "_ = ok.grade('q2_1')"
   ]
  },
  {
   "cell_type": "markdown",
   "metadata": {},
   "source": [
    "**Question 2.** Sort the data in decreasing order by NEI, naming the sorted table `by_nei`.  Create another table called `by_nei_pter` that's sorted in decreasing order by NEI-PTER instead."
   ]
  },
  {
   "cell_type": "code",
   "execution_count": null,
   "metadata": {},
   "outputs": [],
   "source": [
    "by_nei = ...\n",
    "by_nei_pter = ..."
   ]
  },
  {
   "cell_type": "code",
   "execution_count": null,
   "metadata": {},
   "outputs": [],
   "source": [
    "_ = ok.grade('q2_2')"
   ]
  },
  {
   "cell_type": "markdown",
   "metadata": {},
   "source": [
    "**Question 3.** Use `take` to make a table containing the data for the 10 quarters when NEI was greatest.  Call that table `greatest_nei`."
   ]
  },
  {
   "cell_type": "code",
   "execution_count": null,
   "metadata": {},
   "outputs": [],
   "source": [
    "greatest_nei = ...\n",
    "greatest_nei"
   ]
  },
  {
   "cell_type": "code",
   "execution_count": null,
   "metadata": {},
   "outputs": [],
   "source": [
    "_ = ok.grade('q2_3')"
   ]
  },
  {
   "cell_type": "markdown",
   "metadata": {},
   "source": [
    "**Question 4.** It's believed that many people became PTER (recall: \"Part-Time for Economic Reasons\") in the \"Great Recession\" of 2008-2009.  NEI-PTER is the percentage of people who are unemployed (and counted in the NEI) plus the percentage of people who are PTER.  Compute an array containing the percentage of people who were PTER in each quarter.  (The first element of the array should correspond to the first row of `unemployment`, and so on.)\n",
    "\n",
    "*Note:* Use the original `unemployment` table for this."
   ]
  },
  {
   "cell_type": "code",
   "execution_count": null,
   "metadata": {},
   "outputs": [],
   "source": [
    "pter = ...\n",
    "pter"
   ]
  },
  {
   "cell_type": "code",
   "execution_count": null,
   "metadata": {},
   "outputs": [],
   "source": [
    "_ = ok.grade('q2_4')"
   ]
  },
  {
   "cell_type": "markdown",
   "metadata": {},
   "source": [
    "**Question 5.** Add `pter` as a column to `unemployment` (named \"PTER\") and sort the resulting table by that column in decreasing order.  Call the table `by_pter`.\n",
    "\n",
    "Try to do this with a single line of code, if you can."
   ]
  },
  {
   "cell_type": "code",
   "execution_count": null,
   "metadata": {},
   "outputs": [],
   "source": [
    "by_pter = ...\n",
    "by_pter"
   ]
  },
  {
   "cell_type": "code",
   "execution_count": null,
   "metadata": {},
   "outputs": [],
   "source": [
    "_ = ok.grade('q2_5')"
   ]
  },
  {
   "cell_type": "markdown",
   "metadata": {},
   "source": [
    "**Question 6.** Create a line plot of the PTER over time. To do this, first add the `year` array and the `pter` array to the `unemployment` table; label these columns \"Year\" and \"PTER\", respectively. Then, generate a line plot using one of the table methods you've learned in class."
   ]
  },
  {
   "cell_type": "code",
   "execution_count": null,
   "metadata": {},
   "outputs": [],
   "source": []
  },
  {
   "cell_type": "code",
   "execution_count": null,
   "metadata": {},
   "outputs": [],
   "source": [
    "_ = ok.grade('q2_6')"
   ]
  },
  {
   "cell_type": "markdown",
   "metadata": {},
   "source": [
    "**Question 7.** Were PTER rates high during or directly after the Great Recession (that is to say, were PTER rates particularly high in the years 2008 through 2011 or so)? Assign highPTER to `True` if you think PTER rates were high in this period, and `False` if you think they weren't. "
   ]
  },
  {
   "cell_type": "code",
   "execution_count": null,
   "metadata": {},
   "outputs": [],
   "source": [
    "highPTER = ..."
   ]
  },
  {
   "cell_type": "code",
   "execution_count": null,
   "metadata": {},
   "outputs": [],
   "source": [
    "_ = ok.grade('q2_7')"
   ]
  },
  {
   "cell_type": "markdown",
   "metadata": {},
   "source": [
    "## 3. Birth Rates\n"
   ]
  },
  {
   "cell_type": "markdown",
   "metadata": {},
   "source": [
    "The following table gives census-based population estimates for each state on July 1, 2015 and July 1, 2016. The last four columns describe the components of the estimated change in population during this time interval. *For all questions below, assume that the word \"states\" refers to all 52 rows including Puerto Rico & the District of Columbia.*"
   ]
  },
  {
   "cell_type": "code",
   "execution_count": null,
   "metadata": {},
   "outputs": [],
   "source": [
    "# Don't change this cell; just run it.\n",
    "# From http://www2.census.gov/programs-surveys/popest/datasets/2010-2016/national/totals/nst-est2016-alldata.csv\n",
    "# See http://www2.census.gov/programs-surveys/popest/datasets/2010-2015/national/totals/nst-est2015-alldata.pdf\n",
    "#     for column descriptions. (As of Feb 2017, no descriptions were posted for 2010-2016.)\n",
    "pop = Table.read_table('nst-est2016-alldata.csv').where('SUMLEV', 40).select([1, 4, 12, 13, 27, 34, 62, 69])\n",
    "pop = pop.relabeled(2, '2015').relabeled(3, '2016')\n",
    "pop = pop.relabeled(4, 'BIRTHS').relabeled(5, 'DEATHS')\n",
    "pop = pop.relabeled(6, 'MIGRATION').relabeled(7, 'OTHER')\n",
    "pop.set_format([2, 3, 4, 5, 6, 7], NumberFormatter(decimals=0)).show(5)"
   ]
  },
  {
   "cell_type": "markdown",
   "metadata": {},
   "source": [
    "**Question 1.** Assign `us_birth_rate` to the total US annual birth rate during this time interval. The annual birth rate for a year-long period is the number of births in that period as a proportion of the population at the start of the period."
   ]
  },
  {
   "cell_type": "code",
   "execution_count": null,
   "metadata": {},
   "outputs": [],
   "source": [
    "us_birth_rate = ...\n",
    "us_birth_rate"
   ]
  },
  {
   "cell_type": "code",
   "execution_count": null,
   "metadata": {},
   "outputs": [],
   "source": [
    "_ = ok.grade('q3_1')"
   ]
  },
  {
   "cell_type": "markdown",
   "metadata": {},
   "source": [
    "**Question 2.** Assign `fastest_growth` to an array of the names of the five states with the fastest population growth rates in *descending order of growth rate*. First, create a new version of the `pop` table, called `growth_rates`, which includes a column with the growth rate of each state. Making intermediate tables can improve the readability of the code and make it easier to follow when revisting at a later time."
   ]
  },
  {
   "cell_type": "code",
   "execution_count": null,
   "metadata": {},
   "outputs": [],
   "source": [
    "growth_rates = ...\n",
    "fastest_growth = ...\n",
    "fastest_growth"
   ]
  },
  {
   "cell_type": "code",
   "execution_count": null,
   "metadata": {},
   "outputs": [],
   "source": [
    "_ = ok.grade('q3_2')"
   ]
  },
  {
   "cell_type": "markdown",
   "metadata": {},
   "source": [
    "**Question 3.** Assign `movers` to the number of states for which the absolute annual rate of migration was higher than 1%. The annual rate of migration for a year-long period is the net number of migrations (in and out) as a proportion of the population at the start of the period. The `MIGRATION` column contains estimated annual net migration counts by state."
   ]
  },
  {
   "cell_type": "code",
   "execution_count": null,
   "metadata": {},
   "outputs": [],
   "source": [
    "migration_rates = ...\n",
    "movers = ...\n",
    "movers"
   ]
  },
  {
   "cell_type": "code",
   "execution_count": null,
   "metadata": {},
   "outputs": [],
   "source": [
    "_ = ok.grade('q3_3')"
   ]
  },
  {
   "cell_type": "markdown",
   "metadata": {},
   "source": [
    "**Question 4.** Assign `west_births` to the total number of births that occurred in region 4 (the Western US). *Hint:* Make sure you double check the type of the values in the region column."
   ]
  },
  {
   "cell_type": "code",
   "execution_count": null,
   "metadata": {},
   "outputs": [],
   "source": [
    "west_births = ...\n",
    "west_births"
   ]
  },
  {
   "cell_type": "code",
   "execution_count": null,
   "metadata": {},
   "outputs": [],
   "source": [
    "_ = ok.grade('q3_4')"
   ]
  },
  {
   "cell_type": "markdown",
   "metadata": {},
   "source": [
    "**Question 5.** Assign `less_than_west_births` to the number of states that had a total population in 2016 that was smaller than the *number of babies born in region 4 (the Western US)* during this time interval."
   ]
  },
  {
   "cell_type": "code",
   "execution_count": null,
   "metadata": {},
   "outputs": [],
   "source": [
    "less_than_west_births = ...\n",
    "less_than_west_births"
   ]
  },
  {
   "cell_type": "code",
   "execution_count": null,
   "metadata": {},
   "outputs": [],
   "source": [
    "_ = ok.grade('q3_5')"
   ]
  },
  {
   "cell_type": "markdown",
   "metadata": {},
   "source": [
    "**Question 6.** \n",
    "\n",
    "In the code cell below, create a visualization that will show if there is an association between birth rate and death rate during this time interval. It may be helpful to create an intermediate table here."
   ]
  },
  {
   "cell_type": "code",
   "execution_count": null,
   "metadata": {
    "deletable": false,
    "manual_problem_id": "birth_death_rates_graph"
   },
   "outputs": [],
   "source": [
    "# Generate your chart in this cell\n",
    "..."
   ]
  },
  {
   "cell_type": "markdown",
   "metadata": {},
   "source": [
    "**Question 7.** `True` or `False`: There is an association between birth rate and death rate during this time interval. \n",
    "\n",
    "Assign your answer to `assoc` in the cell below. "
   ]
  },
  {
   "cell_type": "code",
   "execution_count": null,
   "metadata": {},
   "outputs": [],
   "source": [
    "assoc = ..."
   ]
  },
  {
   "cell_type": "code",
   "execution_count": null,
   "metadata": {},
   "outputs": [],
   "source": [
    "_ = ok.grade('q3_7')"
   ]
  },
  {
   "cell_type": "markdown",
   "metadata": {},
   "source": [
    "## 4. Marginal Histograms\n"
   ]
  },
  {
   "cell_type": "markdown",
   "metadata": {},
   "source": [
    "Consider the following scatter plot: ![](scatter.png)\n",
    "\n",
    "The axes of the plot represent values of two variables: $x$ and $y$. "
   ]
  },
  {
   "cell_type": "markdown",
   "metadata": {},
   "source": [
    "Suppose we have a table called `t` that has two columns in it:\n",
    "\n",
    "- `x`: a column containing the x-values of the points in the scatter plot\n",
    "- `y`: a column containing the y-values of the points in the scatter plot"
   ]
  },
  {
   "cell_type": "markdown",
   "metadata": {},
   "source": [
    "**Question 1:** Match each of the following histograms to the code that produced them. Explain your reasoning."
   ]
  },
  {
   "cell_type": "markdown",
   "metadata": {},
   "source": [
    "**Histogram A:** ![](var1.png)\n",
    "**Histogram B:** ![](var2.png)"
   ]
  },
  {
   "cell_type": "markdown",
   "metadata": {
    "deletable": false,
    "for_assignment_type": "student",
    "manual_problem_id": "hist_x"
   },
   "source": [
    "**Line 1:** `t.hist('x')`\n",
    "\n",
    "**Histogram for Line 1: (A OR B)**\n",
    "\n",
    "**Explanation:**"
   ]
  },
  {
   "cell_type": "markdown",
   "metadata": {
    "deletable": false,
    "for_assignment_type": "student",
    "manual_problem_id": "hist_y"
   },
   "source": [
    "**Line 2:** `t.hist('y')`\n",
    "\n",
    "**Histogram for Line 2: (A OR B)**\n",
    "\n",
    "**Explanation:**"
   ]
  },
  {
   "cell_type": "markdown",
   "metadata": {},
   "source": [
    "## 5. Submission\n"
   ]
  },
  {
   "cell_type": "markdown",
   "metadata": {
    "collapsed": true
   },
   "source": [
    "Once you're finished, select \"Save and Checkpoint\" in the File menu and then execute the `submit` cell below. The result will contain a link that you can use to check that your assignment has been submitted successfully. If you submit more than once before the deadline, we will only grade your final submission. If you mistakenly submit the wrong one, you can head to [okpy.org](https://okpy.org/) and flag the correct version. To do so, go to the website, click on this assignment, and find the version you would like to be graded. There should be an option to flag that submission for grading!"
   ]
  },
  {
   "cell_type": "code",
   "execution_count": null,
   "metadata": {},
   "outputs": [],
   "source": [
    "_ = ok.submit()"
   ]
  },
  {
   "cell_type": "code",
   "execution_count": null,
   "metadata": {},
   "outputs": [],
   "source": []
  }
 ],
 "metadata": {
  "kernelspec": {
   "display_name": "Python 3",
   "language": "python",
   "name": "python3"
  },
  "language_info": {
   "codemirror_mode": {
    "name": "ipython",
    "version": 3
   },
   "file_extension": ".py",
   "mimetype": "text/x-python",
   "name": "python",
   "nbconvert_exporter": "python",
   "pygments_lexer": "ipython3",
   "version": "3.6.4"
  }
 },
 "nbformat": 4,
 "nbformat_minor": 1
}
